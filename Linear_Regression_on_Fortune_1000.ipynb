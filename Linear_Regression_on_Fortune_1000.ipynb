{
  "nbformat": 4,
  "nbformat_minor": 0,
  "metadata": {
    "colab": {
      "provenance": []
    },
    "kernelspec": {
      "name": "python3",
      "display_name": "Python 3"
    },
    "language_info": {
      "name": "python"
    }
  },
  "cells": [
    {
      "cell_type": "code",
      "execution_count": 58,
      "metadata": {
        "id": "BnrtIwPuoDcF"
      },
      "outputs": [],
      "source": [
        "import numpy as np\n",
        "import matplotlib.pyplot as plt\n",
        "import pandas as pd\n",
        "import seaborn as sns\n",
        "%matplotlib inline\n",
        "from sklearn.preprocessing import LabelEncoder, OneHotEncoder"
      ]
    },
    {
      "cell_type": "code",
      "source": [
        "companies=pd.read_csv(\"Fortune_1000.csv\")\n"
      ],
      "metadata": {
        "id": "GLDzdFHooVvG"
      },
      "execution_count": 59,
      "outputs": []
    },
    {
      "cell_type": "code",
      "source": [
        "companies.head()"
      ],
      "metadata": {
        "colab": {
          "base_uri": "https://localhost:8080/",
          "height": 206
        },
        "id": "vPsw84CCpCzN",
        "outputId": "bac02094-bf91-4781-8af5-4472cfe8b277"
      },
      "execution_count": 60,
      "outputs": [
        {
          "output_type": "execute_result",
          "data": {
            "text/plain": [
              "              company  rank  rank_change   revenue   profit  \\\n",
              "0             Walmart     1          0.0  572754.0  13673.0   \n",
              "1              Amazon     2          0.0  469822.0  33364.0   \n",
              "2               Apple     3          0.0  365817.0  94680.0   \n",
              "3          CVS Health     4          0.0  292111.0   7910.0   \n",
              "4  UnitedHealth Group     5          0.0  287597.0  17285.0   \n",
              "\n",
              "   num. of employees       sector         city state newcomer ceo_founder  \\\n",
              "0          2300000.0    Retailing  Bentonville    AR       no          no   \n",
              "1          1608000.0    Retailing      Seattle    WA       no          no   \n",
              "2           154000.0   Technology    Cupertino    CA       no          no   \n",
              "3           258000.0  Health Care   Woonsocket    RI       no          no   \n",
              "4           350000.0  Health Care   Minnetonka    MN       no          no   \n",
              "\n",
              "  ceo_woman profitable prev_rank                  CEO  \\\n",
              "0        no        yes       1.0  C. Douglas McMillon   \n",
              "1        no        yes       2.0      Andrew R. Jassy   \n",
              "2        no        yes       3.0      Timothy D. Cook   \n",
              "3       yes        yes       4.0          Karen Lynch   \n",
              "4        no        yes       5.0      Andrew P. Witty   \n",
              "\n",
              "                         Website Ticker Market Cap  \n",
              "0  https://www.stock.walmart.com    WMT     352037  \n",
              "1                 www.amazon.com   AMZN    1202717  \n",
              "2                  www.apple.com   AAPL    2443962  \n",
              "3      https://www.cvshealth.com    CVS     125204  \n",
              "4      www.unitedhealthgroup.com    UNH     500468  "
            ],
            "text/html": [
              "\n",
              "\n",
              "  <div id=\"df-93c1ddd1-b867-4d14-8e30-8add7cea68e8\">\n",
              "    <div class=\"colab-df-container\">\n",
              "      <div>\n",
              "<style scoped>\n",
              "    .dataframe tbody tr th:only-of-type {\n",
              "        vertical-align: middle;\n",
              "    }\n",
              "\n",
              "    .dataframe tbody tr th {\n",
              "        vertical-align: top;\n",
              "    }\n",
              "\n",
              "    .dataframe thead th {\n",
              "        text-align: right;\n",
              "    }\n",
              "</style>\n",
              "<table border=\"1\" class=\"dataframe\">\n",
              "  <thead>\n",
              "    <tr style=\"text-align: right;\">\n",
              "      <th></th>\n",
              "      <th>company</th>\n",
              "      <th>rank</th>\n",
              "      <th>rank_change</th>\n",
              "      <th>revenue</th>\n",
              "      <th>profit</th>\n",
              "      <th>num. of employees</th>\n",
              "      <th>sector</th>\n",
              "      <th>city</th>\n",
              "      <th>state</th>\n",
              "      <th>newcomer</th>\n",
              "      <th>ceo_founder</th>\n",
              "      <th>ceo_woman</th>\n",
              "      <th>profitable</th>\n",
              "      <th>prev_rank</th>\n",
              "      <th>CEO</th>\n",
              "      <th>Website</th>\n",
              "      <th>Ticker</th>\n",
              "      <th>Market Cap</th>\n",
              "    </tr>\n",
              "  </thead>\n",
              "  <tbody>\n",
              "    <tr>\n",
              "      <th>0</th>\n",
              "      <td>Walmart</td>\n",
              "      <td>1</td>\n",
              "      <td>0.0</td>\n",
              "      <td>572754.0</td>\n",
              "      <td>13673.0</td>\n",
              "      <td>2300000.0</td>\n",
              "      <td>Retailing</td>\n",
              "      <td>Bentonville</td>\n",
              "      <td>AR</td>\n",
              "      <td>no</td>\n",
              "      <td>no</td>\n",
              "      <td>no</td>\n",
              "      <td>yes</td>\n",
              "      <td>1.0</td>\n",
              "      <td>C. Douglas McMillon</td>\n",
              "      <td>https://www.stock.walmart.com</td>\n",
              "      <td>WMT</td>\n",
              "      <td>352037</td>\n",
              "    </tr>\n",
              "    <tr>\n",
              "      <th>1</th>\n",
              "      <td>Amazon</td>\n",
              "      <td>2</td>\n",
              "      <td>0.0</td>\n",
              "      <td>469822.0</td>\n",
              "      <td>33364.0</td>\n",
              "      <td>1608000.0</td>\n",
              "      <td>Retailing</td>\n",
              "      <td>Seattle</td>\n",
              "      <td>WA</td>\n",
              "      <td>no</td>\n",
              "      <td>no</td>\n",
              "      <td>no</td>\n",
              "      <td>yes</td>\n",
              "      <td>2.0</td>\n",
              "      <td>Andrew R. Jassy</td>\n",
              "      <td>www.amazon.com</td>\n",
              "      <td>AMZN</td>\n",
              "      <td>1202717</td>\n",
              "    </tr>\n",
              "    <tr>\n",
              "      <th>2</th>\n",
              "      <td>Apple</td>\n",
              "      <td>3</td>\n",
              "      <td>0.0</td>\n",
              "      <td>365817.0</td>\n",
              "      <td>94680.0</td>\n",
              "      <td>154000.0</td>\n",
              "      <td>Technology</td>\n",
              "      <td>Cupertino</td>\n",
              "      <td>CA</td>\n",
              "      <td>no</td>\n",
              "      <td>no</td>\n",
              "      <td>no</td>\n",
              "      <td>yes</td>\n",
              "      <td>3.0</td>\n",
              "      <td>Timothy D. Cook</td>\n",
              "      <td>www.apple.com</td>\n",
              "      <td>AAPL</td>\n",
              "      <td>2443962</td>\n",
              "    </tr>\n",
              "    <tr>\n",
              "      <th>3</th>\n",
              "      <td>CVS Health</td>\n",
              "      <td>4</td>\n",
              "      <td>0.0</td>\n",
              "      <td>292111.0</td>\n",
              "      <td>7910.0</td>\n",
              "      <td>258000.0</td>\n",
              "      <td>Health Care</td>\n",
              "      <td>Woonsocket</td>\n",
              "      <td>RI</td>\n",
              "      <td>no</td>\n",
              "      <td>no</td>\n",
              "      <td>yes</td>\n",
              "      <td>yes</td>\n",
              "      <td>4.0</td>\n",
              "      <td>Karen Lynch</td>\n",
              "      <td>https://www.cvshealth.com</td>\n",
              "      <td>CVS</td>\n",
              "      <td>125204</td>\n",
              "    </tr>\n",
              "    <tr>\n",
              "      <th>4</th>\n",
              "      <td>UnitedHealth Group</td>\n",
              "      <td>5</td>\n",
              "      <td>0.0</td>\n",
              "      <td>287597.0</td>\n",
              "      <td>17285.0</td>\n",
              "      <td>350000.0</td>\n",
              "      <td>Health Care</td>\n",
              "      <td>Minnetonka</td>\n",
              "      <td>MN</td>\n",
              "      <td>no</td>\n",
              "      <td>no</td>\n",
              "      <td>no</td>\n",
              "      <td>yes</td>\n",
              "      <td>5.0</td>\n",
              "      <td>Andrew P. Witty</td>\n",
              "      <td>www.unitedhealthgroup.com</td>\n",
              "      <td>UNH</td>\n",
              "      <td>500468</td>\n",
              "    </tr>\n",
              "  </tbody>\n",
              "</table>\n",
              "</div>\n",
              "      <button class=\"colab-df-convert\" onclick=\"convertToInteractive('df-93c1ddd1-b867-4d14-8e30-8add7cea68e8')\"\n",
              "              title=\"Convert this dataframe to an interactive table.\"\n",
              "              style=\"display:none;\">\n",
              "\n",
              "  <svg xmlns=\"http://www.w3.org/2000/svg\" height=\"24px\"viewBox=\"0 0 24 24\"\n",
              "       width=\"24px\">\n",
              "    <path d=\"M0 0h24v24H0V0z\" fill=\"none\"/>\n",
              "    <path d=\"M18.56 5.44l.94 2.06.94-2.06 2.06-.94-2.06-.94-.94-2.06-.94 2.06-2.06.94zm-11 1L8.5 8.5l.94-2.06 2.06-.94-2.06-.94L8.5 2.5l-.94 2.06-2.06.94zm10 10l.94 2.06.94-2.06 2.06-.94-2.06-.94-.94-2.06-.94 2.06-2.06.94z\"/><path d=\"M17.41 7.96l-1.37-1.37c-.4-.4-.92-.59-1.43-.59-.52 0-1.04.2-1.43.59L10.3 9.45l-7.72 7.72c-.78.78-.78 2.05 0 2.83L4 21.41c.39.39.9.59 1.41.59.51 0 1.02-.2 1.41-.59l7.78-7.78 2.81-2.81c.8-.78.8-2.07 0-2.86zM5.41 20L4 18.59l7.72-7.72 1.47 1.35L5.41 20z\"/>\n",
              "  </svg>\n",
              "      </button>\n",
              "\n",
              "\n",
              "\n",
              "    <div id=\"df-57eba1fd-2d25-4ef4-ae82-a20039150d60\">\n",
              "      <button class=\"colab-df-quickchart\" onclick=\"quickchart('df-57eba1fd-2d25-4ef4-ae82-a20039150d60')\"\n",
              "              title=\"Suggest charts.\"\n",
              "              style=\"display:none;\">\n",
              "\n",
              "<svg xmlns=\"http://www.w3.org/2000/svg\" height=\"24px\"viewBox=\"0 0 24 24\"\n",
              "     width=\"24px\">\n",
              "    <g>\n",
              "        <path d=\"M19 3H5c-1.1 0-2 .9-2 2v14c0 1.1.9 2 2 2h14c1.1 0 2-.9 2-2V5c0-1.1-.9-2-2-2zM9 17H7v-7h2v7zm4 0h-2V7h2v10zm4 0h-2v-4h2v4z\"/>\n",
              "    </g>\n",
              "</svg>\n",
              "      </button>\n",
              "    </div>\n",
              "\n",
              "<style>\n",
              "  .colab-df-quickchart {\n",
              "    background-color: #E8F0FE;\n",
              "    border: none;\n",
              "    border-radius: 50%;\n",
              "    cursor: pointer;\n",
              "    display: none;\n",
              "    fill: #1967D2;\n",
              "    height: 32px;\n",
              "    padding: 0 0 0 0;\n",
              "    width: 32px;\n",
              "  }\n",
              "\n",
              "  .colab-df-quickchart:hover {\n",
              "    background-color: #E2EBFA;\n",
              "    box-shadow: 0px 1px 2px rgba(60, 64, 67, 0.3), 0px 1px 3px 1px rgba(60, 64, 67, 0.15);\n",
              "    fill: #174EA6;\n",
              "  }\n",
              "\n",
              "  [theme=dark] .colab-df-quickchart {\n",
              "    background-color: #3B4455;\n",
              "    fill: #D2E3FC;\n",
              "  }\n",
              "\n",
              "  [theme=dark] .colab-df-quickchart:hover {\n",
              "    background-color: #434B5C;\n",
              "    box-shadow: 0px 1px 3px 1px rgba(0, 0, 0, 0.15);\n",
              "    filter: drop-shadow(0px 1px 2px rgba(0, 0, 0, 0.3));\n",
              "    fill: #FFFFFF;\n",
              "  }\n",
              "</style>\n",
              "\n",
              "    <script>\n",
              "      async function quickchart(key) {\n",
              "        const containerElement = document.querySelector('#' + key);\n",
              "        const charts = await google.colab.kernel.invokeFunction(\n",
              "            'suggestCharts', [key], {});\n",
              "      }\n",
              "    </script>\n",
              "\n",
              "      <script>\n",
              "\n",
              "function displayQuickchartButton(domScope) {\n",
              "  let quickchartButtonEl =\n",
              "    domScope.querySelector('#df-57eba1fd-2d25-4ef4-ae82-a20039150d60 button.colab-df-quickchart');\n",
              "  quickchartButtonEl.style.display =\n",
              "    google.colab.kernel.accessAllowed ? 'block' : 'none';\n",
              "}\n",
              "\n",
              "        displayQuickchartButton(document);\n",
              "      </script>\n",
              "      <style>\n",
              "    .colab-df-container {\n",
              "      display:flex;\n",
              "      flex-wrap:wrap;\n",
              "      gap: 12px;\n",
              "    }\n",
              "\n",
              "    .colab-df-convert {\n",
              "      background-color: #E8F0FE;\n",
              "      border: none;\n",
              "      border-radius: 50%;\n",
              "      cursor: pointer;\n",
              "      display: none;\n",
              "      fill: #1967D2;\n",
              "      height: 32px;\n",
              "      padding: 0 0 0 0;\n",
              "      width: 32px;\n",
              "    }\n",
              "\n",
              "    .colab-df-convert:hover {\n",
              "      background-color: #E2EBFA;\n",
              "      box-shadow: 0px 1px 2px rgba(60, 64, 67, 0.3), 0px 1px 3px 1px rgba(60, 64, 67, 0.15);\n",
              "      fill: #174EA6;\n",
              "    }\n",
              "\n",
              "    [theme=dark] .colab-df-convert {\n",
              "      background-color: #3B4455;\n",
              "      fill: #D2E3FC;\n",
              "    }\n",
              "\n",
              "    [theme=dark] .colab-df-convert:hover {\n",
              "      background-color: #434B5C;\n",
              "      box-shadow: 0px 1px 3px 1px rgba(0, 0, 0, 0.15);\n",
              "      filter: drop-shadow(0px 1px 2px rgba(0, 0, 0, 0.3));\n",
              "      fill: #FFFFFF;\n",
              "    }\n",
              "  </style>\n",
              "\n",
              "      <script>\n",
              "        const buttonEl =\n",
              "          document.querySelector('#df-93c1ddd1-b867-4d14-8e30-8add7cea68e8 button.colab-df-convert');\n",
              "        buttonEl.style.display =\n",
              "          google.colab.kernel.accessAllowed ? 'block' : 'none';\n",
              "\n",
              "        async function convertToInteractive(key) {\n",
              "          const element = document.querySelector('#df-93c1ddd1-b867-4d14-8e30-8add7cea68e8');\n",
              "          const dataTable =\n",
              "            await google.colab.kernel.invokeFunction('convertToInteractive',\n",
              "                                                     [key], {});\n",
              "          if (!dataTable) return;\n",
              "\n",
              "          const docLinkHtml = 'Like what you see? Visit the ' +\n",
              "            '<a target=\"_blank\" href=https://colab.research.google.com/notebooks/data_table.ipynb>data table notebook</a>'\n",
              "            + ' to learn more about interactive tables.';\n",
              "          element.innerHTML = '';\n",
              "          dataTable['output_type'] = 'display_data';\n",
              "          await google.colab.output.renderOutput(dataTable, element);\n",
              "          const docLink = document.createElement('div');\n",
              "          docLink.innerHTML = docLinkHtml;\n",
              "          element.appendChild(docLink);\n",
              "        }\n",
              "      </script>\n",
              "    </div>\n",
              "  </div>\n"
            ]
          },
          "metadata": {},
          "execution_count": 60
        }
      ]
    },
    {
      "cell_type": "code",
      "source": [
        "columnstoremove=[\"company\",\"rank\",\"rank_change\",\"num. of employees\", \"sector\", \"city\", \"newcomer\", \"ceo_founder\", \"ceo_woman\", \"profitable\",\"prev_rank\",\"CEO\",\"Website\",\"Ticker\"]"
      ],
      "metadata": {
        "id": "0dVh-r_msjDK"
      },
      "execution_count": 61,
      "outputs": []
    },
    {
      "cell_type": "code",
      "source": [
        "df = pd.DataFrame(companies)\n",
        "companies=df.drop(columns=columnstoremove)"
      ],
      "metadata": {
        "id": "wHumNIL8si2r"
      },
      "execution_count": 62,
      "outputs": []
    },
    {
      "cell_type": "code",
      "source": [
        "sns.heatmap(companies.corr())"
      ],
      "metadata": {
        "colab": {
          "base_uri": "https://localhost:8080/",
          "height": 487
        },
        "id": "FYRuriZ7pyWP",
        "outputId": "f6ffb9da-0582-4a44-a0e9-350a2628c8ec"
      },
      "execution_count": 63,
      "outputs": [
        {
          "output_type": "stream",
          "name": "stderr",
          "text": [
            "<ipython-input-63-12caec5e304d>:1: FutureWarning: The default value of numeric_only in DataFrame.corr is deprecated. In a future version, it will default to False. Select only valid columns or specify the value of numeric_only to silence this warning.\n",
            "  sns.heatmap(companies.corr())\n"
          ]
        },
        {
          "output_type": "execute_result",
          "data": {
            "text/plain": [
              "<Axes: >"
            ]
          },
          "metadata": {},
          "execution_count": 63
        },
        {
          "output_type": "display_data",
          "data": {
            "text/plain": [
              "<Figure size 640x480 with 2 Axes>"
            ],
            "image/png": "[encoded data removed]"
          },
          "metadata": {}
        }
      ]
    },
    {
      "cell_type": "code",
      "source": [
        "companies=df.dropna()\n",
        "X= companies.iloc[:,:-1].values\n",
        "y= companies.iloc[:,3].values"
      ],
      "metadata": {
        "id": "S-g9lxJwvv7w"
      },
      "execution_count": 69,
      "outputs": []
    },
    {
      "cell_type": "code",
      "source": [
        "#encoding categorical data\n",
        "from sklearn.preprocessing import LabelEncoder, OneHotEncoder\n",
        "labelencoder=LabelEncoder()\n",
        "X[:,2]=labelencoder.fit_transform(X[:,2])\n",
        "onehotencoder= OneHotEncoder()\n",
        "X=onehotencoder.fit_transform(X).toarray()\n",
        "print(X[0])\n"
      ],
      "metadata": {
        "colab": {
          "base_uri": "https://localhost:8080/"
        },
        "id": "ZwCgldYxqBL3",
        "outputId": "9c317450-c9bc-4d5d-b170-cb81a827fcc1"
      },
      "execution_count": 70,
      "outputs": [
        {
          "output_type": "stream",
          "name": "stdout",
          "text": [
            "[0. 0. 0. ... 0. 0. 0.]\n"
          ]
        }
      ]
    },
    {
      "cell_type": "code",
      "source": [
        "#avoid dummy\n",
        "X=X[:,1:]"
      ],
      "metadata": {
        "id": "zhBq6uCWuA3h"
      },
      "execution_count": 71,
      "outputs": []
    },
    {
      "cell_type": "code",
      "source": [
        "from pandas.core.common import random_state\n",
        "#split data\n",
        "from sklearn.model_selection import train_test_split\n",
        "X_train,X_test, y_train, y_test = train_test_split(X,y,test_size=0.2, random_state=0)\n",
        "\n"
      ],
      "metadata": {
        "id": "hVEbEyoluO8K"
      },
      "execution_count": 72,
      "outputs": []
    },
    {
      "cell_type": "code",
      "source": [
        "#linear\n",
        "from sklearn.linear_model import LinearRegression\n",
        "regressor = LinearRegression()\n",
        "regressor.fit(X_train, y_train)"
      ],
      "metadata": {
        "colab": {
          "base_uri": "https://localhost:8080/",
          "height": 75
        },
        "id": "BSMAYoekvBtr",
        "outputId": "f239b96e-f968-48df-bc7a-fbd518e7354e"
      },
      "execution_count": 73,
      "outputs": [
        {
          "output_type": "execute_result",
          "data": {
            "text/plain": [
              "LinearRegression()"
            ],
            "text/html": [
              "<style>#sk-container-id-2 {color: black;background-color: white;}#sk-container-id-2 pre{padding: 0;}#sk-container-id-2 div.sk-toggleable {background-color: white;}#sk-container-id-2 label.sk-toggleable__label {cursor: pointer;display: block;width: 100%;margin-bottom: 0;padding: 0.3em;box-sizing: border-box;text-align: center;}#sk-container-id-2 label.sk-toggleable__label-arrow:before {content: \"▸\";float: left;margin-right: 0.25em;color: #696969;}#sk-container-id-2 label.sk-toggleable__label-arrow:hover:before {color: black;}#sk-container-id-2 div.sk-estimator:hover label.sk-toggleable__label-arrow:before {color: black;}#sk-container-id-2 div.sk-toggleable__content {max-height: 0;max-width: 0;overflow: hidden;text-align: left;background-color: #f0f8ff;}#sk-container-id-2 div.sk-toggleable__content pre {margin: 0.2em;color: black;border-radius: 0.25em;background-color: #f0f8ff;}#sk-container-id-2 input.sk-toggleable__control:checked~div.sk-toggleable__content {max-height: 200px;max-width: 100%;overflow: auto;}#sk-container-id-2 input.sk-toggleable__control:checked~label.sk-toggleable__label-arrow:before {content: \"▾\";}#sk-container-id-2 div.sk-estimator input.sk-toggleable__control:checked~label.sk-toggleable__label {background-color: #d4ebff;}#sk-container-id-2 div.sk-label input.sk-toggleable__control:checked~label.sk-toggleable__label {background-color: #d4ebff;}#sk-container-id-2 input.sk-hidden--visually {border: 0;clip: rect(1px 1px 1px 1px);clip: rect(1px, 1px, 1px, 1px);height: 1px;margin: -1px;overflow: hidden;padding: 0;position: absolute;width: 1px;}#sk-container-id-2 div.sk-estimator {font-family: monospace;background-color: #f0f8ff;border: 1px dotted black;border-radius: 0.25em;box-sizing: border-box;margin-bottom: 0.5em;}#sk-container-id-2 div.sk-estimator:hover {background-color: #d4ebff;}#sk-container-id-2 div.sk-parallel-item::after {content: \"\";width: 100%;border-bottom: 1px solid gray;flex-grow: 1;}#sk-container-id-2 div.sk-label:hover label.sk-toggleable__label {background-color: #d4ebff;}#sk-container-id-2 div.sk-serial::before {content: \"\";position: absolute;border-left: 1px solid gray;box-sizing: border-box;top: 0;bottom: 0;left: 50%;z-index: 0;}#sk-container-id-2 div.sk-serial {display: flex;flex-direction: column;align-items: center;background-color: white;padding-right: 0.2em;padding-left: 0.2em;position: relative;}#sk-container-id-2 div.sk-item {position: relative;z-index: 1;}#sk-container-id-2 div.sk-parallel {display: flex;align-items: stretch;justify-content: center;background-color: white;position: relative;}#sk-container-id-2 div.sk-item::before, #sk-container-id-2 div.sk-parallel-item::before {content: \"\";position: absolute;border-left: 1px solid gray;box-sizing: border-box;top: 0;bottom: 0;left: 50%;z-index: -1;}#sk-container-id-2 div.sk-parallel-item {display: flex;flex-direction: column;z-index: 1;position: relative;background-color: white;}#sk-container-id-2 div.sk-parallel-item:first-child::after {align-self: flex-end;width: 50%;}#sk-container-id-2 div.sk-parallel-item:last-child::after {align-self: flex-start;width: 50%;}#sk-container-id-2 div.sk-parallel-item:only-child::after {width: 0;}#sk-container-id-2 div.sk-dashed-wrapped {border: 1px dashed gray;margin: 0 0.4em 0.5em 0.4em;box-sizing: border-box;padding-bottom: 0.4em;background-color: white;}#sk-container-id-2 div.sk-label label {font-family: monospace;font-weight: bold;display: inline-block;line-height: 1.2em;}#sk-container-id-2 div.sk-label-container {text-align: center;}#sk-container-id-2 div.sk-container {/* jupyter's `normalize.less` sets `[hidden] { display: none; }` but bootstrap.min.css set `[hidden] { display: none !important; }` so we also need the `!important` here to be able to override the default hidden behavior on the sphinx rendered scikit-learn.org. See: https://github.com/scikit-learn/scikit-learn/issues/21755 */display: inline-block !important;position: relative;}#sk-container-id-2 div.sk-text-repr-fallback {display: none;}</style><div id=\"sk-container-id-2\" class=\"sk-top-container\"><div class=\"sk-text-repr-fallback\"><pre>LinearRegression()</pre><b>In a Jupyter environment, please rerun this cell to show the HTML representation or trust the notebook. <br />On GitHub, the HTML representation is unable to render, please try loading this page with nbviewer.org.</b></div><div class=\"sk-container\" hidden><div class=\"sk-item\"><div class=\"sk-estimator sk-toggleable\"><input class=\"sk-toggleable__control sk-hidden--visually\" id=\"sk-estimator-id-2\" type=\"checkbox\" checked><label for=\"sk-estimator-id-2\" class=\"sk-toggleable__label sk-toggleable__label-arrow\">LinearRegression</label><div class=\"sk-toggleable__content\"><pre>LinearRegression()</pre></div></div></div></div></div>"
            ]
          },
          "metadata": {},
          "execution_count": 73
        }
      ]
    },
    {
      "cell_type": "code",
      "source": [
        "y_pred=regressor.predict(X_test)\n",
        "print(y_pred)"
      ],
      "metadata": {
        "colab": {
          "base_uri": "https://localhost:8080/"
        },
        "id": "cls4KXRQvhE9",
        "outputId": "502863f4-5491-46e2-8cc5-b02d44defe18"
      },
      "execution_count": 75,
      "outputs": [
        {
          "output_type": "stream",
          "name": "stdout",
          "text": [
            "[ 1.83786472e+03 -7.14805453e+03  2.42649171e+04  1.93355979e+04\n",
            "  5.91319713e+03  1.87498554e+03 -9.67090740e+02  4.36660600e+03\n",
            "  6.37053073e+04  5.94007893e+04  5.45535391e+03  9.03138139e+03\n",
            "  1.56004944e+04  9.01099991e+03  3.30436889e+04  3.70039162e+04\n",
            " -7.80755136e+03  2.28143391e+04  1.66411388e+03  2.04244791e+04\n",
            "  4.12584914e+03  2.83566477e+04  2.07158274e+03  5.00530256e+03\n",
            "  2.60892896e+04  4.14908029e+02  2.66079865e+04  2.34887532e+04\n",
            "  2.07784221e+04  1.43121833e+03  1.29744079e+03 -1.78524520e+03\n",
            " -2.98357703e+03  7.08675236e+03  2.02943037e+04 -9.15355882e+02\n",
            "  2.50685116e+04  2.19408823e+04  4.64757427e+04  4.64725420e+03\n",
            "  4.67074854e+04  2.47133268e+03  4.49569658e+04  2.09811372e+04\n",
            "  4.92867072e+04  1.77572814e+04  2.63807722e+04  2.32207043e+04\n",
            "  2.31263553e+04  4.66962620e+03  1.51289990e+04  6.04804674e+03\n",
            "  4.72747189e+03  2.42998959e+04  1.82577303e+04  1.47598237e+04\n",
            "  7.00261538e+03  2.30560362e+04  5.23467177e+03  2.58370283e+04\n",
            "  2.39108108e+04 -3.17066217e+02  2.96511821e+04  2.11928935e+03\n",
            "  2.81551280e+04  3.86627044e+03 -2.70273944e+03  1.85405636e+04\n",
            "  2.22607551e+04  1.45258180e+04  2.68855470e+04  3.90549018e+03\n",
            "  1.73374030e+04  3.81086747e+03  1.95999302e+04  1.38509461e+04\n",
            "  2.15732078e+04  8.02775788e+03  7.82391041e+03  2.24764358e+04\n",
            "  1.14346170e+04  3.36412850e+03  8.63258075e+04  3.52688501e+04\n",
            "  3.44028474e+04  3.05537804e+03  1.51827260e+04  4.42508451e+04\n",
            "  1.76356844e+04  2.16987945e+03  1.31018981e+04  2.64100553e+04\n",
            "  5.93080611e+03  5.85946538e+03  6.02620283e+04  4.03919819e+04\n",
            "  5.03466191e+03  3.51364887e+04  5.61058951e+04  7.63052298e+02\n",
            "  3.84390336e+03  2.89356701e+04  3.02083758e+04  1.23895382e+04\n",
            "  2.74480388e+04  2.53848279e+04  2.36999956e+04  7.06755456e+04\n",
            "  1.44208471e+03  4.29777601e+04 -2.39654603e+03  3.02121664e+04\n",
            "  2.14922839e+04  3.31416137e+04  1.93848763e+04  1.54717420e+04\n",
            "  3.80425630e+03  4.35013963e+03  1.53699757e+03  6.13426214e+04\n",
            "  9.15890923e+03  1.13553021e+04  4.44280602e+04  1.00908224e+04\n",
            "  3.71158453e+03  3.37809645e+03  5.52471833e+03  7.82392157e+03\n",
            "  7.28671338e+03  1.25996664e+03  7.56306098e+02  6.53061275e+04\n",
            "  2.62465150e+04 -2.62918060e+02  2.99203739e+04  6.18478912e+03\n",
            " -3.49786538e+01  2.02923775e+03  8.25792210e+03  1.25516640e+04\n",
            "  4.02231589e+03  1.45765684e+04  5.95935944e+03  2.93297222e+04\n",
            " -4.53962204e+03  3.76208806e+04  3.11893811e+04 -7.22237832e+03\n",
            "  1.78544335e+04  1.52516504e+04  3.62438105e+04  3.17791752e+04\n",
            "  3.09612914e+04  1.30598005e+03  8.84539495e+02  2.95660155e+03\n",
            "  3.76084339e+04  2.37080140e+04  1.75065640e+04  1.06976207e+04\n",
            "  2.16974661e+04  1.09401600e+03  3.18408724e+03  2.78646424e+04\n",
            "  2.32326629e+04  2.50997852e+04  8.53761054e+03 -1.55211841e+03\n",
            "  5.76281994e+03  1.95330892e+04  5.99383938e+03  2.58404154e+04\n",
            "  7.05781352e+03  2.50928518e+04  2.07520660e+04  1.60102639e+04\n",
            "  3.27025720e+04  4.21737936e+03  1.73103875e+04 -2.64689334e+00\n",
            "  1.72912867e+04  3.65431753e+04 -1.46548221e+03  9.52975528e+02\n",
            "  2.67534656e+04  2.12532128e+04  4.63486935e+03  1.57847853e+03\n",
            "  2.33570104e+04  1.50376538e+03]\n"
          ]
        }
      ]
    },
    {
      "cell_type": "code",
      "source": [
        "print(regressor.coef_)\n"
      ],
      "metadata": {
        "colab": {
          "base_uri": "https://localhost:8080/"
        },
        "id": "U4SqBf9_wWDn",
        "outputId": "cdc832e5-ae65-4916-e4e2-3036bc83b875"
      },
      "execution_count": 77,
      "outputs": [
        {
          "output_type": "stream",
          "name": "stdout",
          "text": [
            "[-2590.30252862  2372.05189759  5271.97519797 ...  -168.13802672\n",
            "  -119.63422957     0.        ]\n"
          ]
        }
      ]
    },
    {
      "cell_type": "code",
      "source": [
        "print(regressor.intercept_)"
      ],
      "metadata": {
        "colab": {
          "base_uri": "https://localhost:8080/"
        },
        "id": "owcDqf3wwlPv",
        "outputId": "4c3925a6-003c-4931-8606-46b5d7a98552"
      },
      "execution_count": 79,
      "outputs": [
        {
          "output_type": "stream",
          "name": "stdout",
          "text": [
            "27952.358825178984\n"
          ]
        }
      ]
    }
  ]
}